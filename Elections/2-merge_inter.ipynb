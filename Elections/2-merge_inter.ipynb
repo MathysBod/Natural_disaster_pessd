{
 "cells": [
  {
   "cell_type": "markdown",
   "id": "d3b5f52d-7d82-4366-8b77-a666be5524c7",
   "metadata": {},
   "source": [
    "Ce code merge les datasets intermédiaires pour faire un dataset global avec tous les résultats électoraux."
   ]
  },
  {
   "cell_type": "code",
   "execution_count": 41,
   "id": "36c2f0d4-4c66-4cc8-9a73-ebf2742b4d23",
   "metadata": {},
   "outputs": [],
   "source": [
    "import pandas as pd\n",
    "import numpy as np\n",
    "import os"
   ]
  },
  {
   "cell_type": "code",
   "execution_count": null,
   "id": "02493728-7766-45bd-8ab1-279320d48ba9",
   "metadata": {},
   "outputs": [],
   "source": [
    "europ_2009_1_inter = pd.read_csv(r\"C:\\Users\\camil\\OneDrive - GENES\\Documents\\ENSAE\\Projet\\data\\elections\\intermediate\\europ_2009_1_inter.csv\", sep=\";\")\n",
    "europ_2009_2_inter = pd.read_csv(r\"C:\\Users\\camil\\OneDrive - GENES\\Documents\\ENSAE\\Projet\\data\\elections\\intermediate\\europ_2009_2_inter.csv\", sep=\";\")\n",
    "europ_2014_inter = pd.read_csv(r\"C:\\Users\\camil\\OneDrive - GENES\\Documents\\ENSAE\\Projet\\data\\elections\\intermediate\\europ_2014_inter.csv\", sep=\";\")\n",
    "europ_2019_inter = pd.read_csv(r\"C:\\Users\\camil\\OneDrive - GENES\\Documents\\ENSAE\\Projet\\data\\elections\\intermediate\\europ_2019_inter.csv\", sep=\";\")\n",
    "\n",
    "#legis_2012_inter = pd.read_csv(r\"C:\\Users\\camil\\OneDrive - GENES\\Documents\\ENSAE\\Projet\\data\\elections\\intermediate\\legis_2012_inter.csv\", sep=\";\")\n",
    "#legis_2017_inter = pd.read_csv(r\"C:\\Users\\camil\\OneDrive - GENES\\Documents\\ENSAE\\Projet\\data\\elections\\intermediate\\legis_2017_inter.csv\", sep=\";\")\n",
    "\n",
    "presid_2007_inter = pd.read_csv(r\"C:\\Users\\camil\\OneDrive - GENES\\Documents\\ENSAE\\Projet\\data\\elections\\intermediate\\presid_2007_inter.csv\", sep=\";\")\n",
    "presid_2012_inter = pd.read_csv(r\"C:\\Users\\camil\\OneDrive - GENES\\Documents\\ENSAE\\Projet\\data\\elections\\intermediate\\presid_2012_inter.csv\", sep=\";\")\n",
    "presid_2017_inter = pd.read_csv(r\"C:\\Users\\camil\\OneDrive - GENES\\Documents\\ENSAE\\Projet\\data\\elections\\intermediate\\presid_2017_inter.csv\", sep=\";\")\n",
    "presid_2022_inter = pd.read_csv(r\"C:\\Users\\camil\\OneDrive - GENES\\Documents\\ENSAE\\Projet\\data\\elections\\intermediate\\presid_2022_inter.csv\", sep=\";\")\n",
    "\n",
    "#reg_2010_inter = pd.read_csv(r\"C:\\Users\\camil\\OneDrive - GENES\\Documents\\ENSAE\\Projet\\data\\elections\\intermediate\\reg_2010_inter.csv\", sep=\";\")\n",
    "#reg_2015_inter  = pd.read_csv(r\"C:\\Users\\camil\\OneDrive - GENES\\Documents\\ENSAE\\Projet\\data\\elections\\intermediate\\reg_2015_inter.csv\", sep=\";\")\n",
    "#reg_2021_inter = pd.read_csv(r\"C:\\Users\\camil\\OneDrive - GENES\\Documents\\ENSAE\\Projet\\data\\elections\\intermediate\\reg_2021_inter.csv\", sep=\";\")"
   ]
  },
  {
   "cell_type": "code",
   "execution_count": null,
   "id": "08aff39c-b5a6-4a40-aa07-3bdf163682ed",
   "metadata": {},
   "outputs": [],
   "source": [
    "merged_elections = pd.concat([europ_2009_1_inter, europ_2009_2_inter, europ_2014_inter, europ_2019_inter, presid_2007_inter, presid_2012_inter, presid_2017_inter, presid_2022_inter], ignore_index=True)"
   ]
  },
  {
   "cell_type": "code",
   "execution_count": 44,
   "id": "5df64d88-7602-47d9-aafc-1ae72c694fed",
   "metadata": {},
   "outputs": [
    {
     "data": {
      "text/plain": [
       "(446460, 18)"
      ]
     },
     "execution_count": 44,
     "metadata": {},
     "output_type": "execute_result"
    }
   ],
   "source": [
    "merged_elections.shape"
   ]
  },
  {
   "cell_type": "code",
   "execution_count": null,
   "id": "e90f2d27-e35c-4749-8f80-7fa0bd6e4fa2",
   "metadata": {
    "collapsed": true,
    "jupyter": {
     "outputs_hidden": true
    },
    "scrolled": true
   },
   "outputs": [],
   "source": [
    "merged_elections.head(10)"
   ]
  },
  {
   "cell_type": "code",
   "execution_count": 46,
   "id": "8f1c4ac9-c16f-4933-b767-1ec6a63a4390",
   "metadata": {},
   "outputs": [],
   "source": [
    "#Delete a few useless variables\n",
    "merged_elections = merged_elections.drop(columns=['order', 'Unnamed: 0'])"
   ]
  },
  {
   "cell_type": "code",
   "execution_count": null,
   "id": "5a4b3759-48fb-472d-8449-3d096d3cad6a",
   "metadata": {},
   "outputs": [],
   "source": [
    "merged_elections[\"department_number\"]"
   ]
  },
  {
   "cell_type": "code",
   "execution_count": 48,
   "id": "2abd40d1-cb7c-4746-b274-8584b4eeba7c",
   "metadata": {},
   "outputs": [],
   "source": [
    "#Recreate zip code, ie Insee code_commune\n",
    "merged_elections['code_insee_inter'] = merged_elections['zip_code'].astype(str).str.zfill(3)\n",
    "merged_elections['department_number_inter'] = merged_elections['department_number'].astype(str).str.zfill(2)"
   ]
  },
  {
   "cell_type": "code",
   "execution_count": 49,
   "id": "913ba54a-25f0-4f3b-b4d2-9ed56756318d",
   "metadata": {},
   "outputs": [],
   "source": [
    "merged_elections['code_insee'] = merged_elections['department_number_inter'] + merged_elections['code_insee_inter']"
   ]
  },
  {
   "cell_type": "code",
   "execution_count": 50,
   "id": "fc6bad13-7e8f-43df-a0ae-251b4b9332ec",
   "metadata": {},
   "outputs": [],
   "source": [
    "#Drop useless variables\n",
    "merged_elections = merged_elections.drop(columns=['department_number_inter', 'code_insee_inter', 'zip_code'])"
   ]
  },
  {
   "cell_type": "code",
   "execution_count": null,
   "id": "cd8ecda5-e99d-4475-928d-bf546aa93b89",
   "metadata": {},
   "outputs": [],
   "source": [
    "merged_elections.rename(columns={'code_insee' : 'zip_code'})"
   ]
  },
  {
   "cell_type": "code",
   "execution_count": 52,
   "id": "362c12a0-8185-4be5-b333-dfaa35544169",
   "metadata": {},
   "outputs": [
    {
     "data": {
      "text/html": [
       "<div>\n",
       "<style scoped>\n",
       "    .dataframe tbody tr th:only-of-type {\n",
       "        vertical-align: middle;\n",
       "    }\n",
       "\n",
       "    .dataframe tbody tr th {\n",
       "        vertical-align: top;\n",
       "    }\n",
       "\n",
       "    .dataframe thead th {\n",
       "        text-align: right;\n",
       "    }\n",
       "</style>\n",
       "<table border=\"1\" class=\"dataframe\">\n",
       "  <thead>\n",
       "    <tr style=\"text-align: right;\">\n",
       "      <th></th>\n",
       "      <th>department_number</th>\n",
       "      <th>Abstentions</th>\n",
       "      <th>Blancs et nuls</th>\n",
       "      <th>Exprimés</th>\n",
       "      <th>Inscrits</th>\n",
       "      <th>Votants</th>\n",
       "      <th>city_code</th>\n",
       "      <th>department_name</th>\n",
       "      <th>voix_eco</th>\n",
       "      <th>% Voix/Ins_eco</th>\n",
       "      <th>% Voix/Exp_eco</th>\n",
       "      <th>election_type</th>\n",
       "      <th>election_day</th>\n",
       "      <th>Blancs</th>\n",
       "      <th>Nuls</th>\n",
       "      <th>code_insee</th>\n",
       "    </tr>\n",
       "  </thead>\n",
       "  <tbody>\n",
       "    <tr>\n",
       "      <th>0</th>\n",
       "      <td>1</td>\n",
       "      <td>360</td>\n",
       "      <td>13.0</td>\n",
       "      <td>223</td>\n",
       "      <td>596</td>\n",
       "      <td>236</td>\n",
       "      <td>L'Abergement-Clémenciat</td>\n",
       "      <td>AIN</td>\n",
       "      <td>31.0</td>\n",
       "      <td>5.20</td>\n",
       "      <td>13.90</td>\n",
       "      <td>europ</td>\n",
       "      <td>20090607</td>\n",
       "      <td>NaN</td>\n",
       "      <td>NaN</td>\n",
       "      <td>01001</td>\n",
       "    </tr>\n",
       "    <tr>\n",
       "      <th>1</th>\n",
       "      <td>1</td>\n",
       "      <td>120</td>\n",
       "      <td>4.0</td>\n",
       "      <td>106</td>\n",
       "      <td>230</td>\n",
       "      <td>110</td>\n",
       "      <td>L'Abergement-de-Varey</td>\n",
       "      <td>AIN</td>\n",
       "      <td>23.0</td>\n",
       "      <td>10.00</td>\n",
       "      <td>21.70</td>\n",
       "      <td>europ</td>\n",
       "      <td>20090607</td>\n",
       "      <td>NaN</td>\n",
       "      <td>NaN</td>\n",
       "      <td>01002</td>\n",
       "    </tr>\n",
       "    <tr>\n",
       "      <th>2</th>\n",
       "      <td>1</td>\n",
       "      <td>4887</td>\n",
       "      <td>85.0</td>\n",
       "      <td>2890</td>\n",
       "      <td>7862</td>\n",
       "      <td>2975</td>\n",
       "      <td>Ambérieu-en-Bugey</td>\n",
       "      <td>AIN</td>\n",
       "      <td>466.0</td>\n",
       "      <td>5.93</td>\n",
       "      <td>16.12</td>\n",
       "      <td>europ</td>\n",
       "      <td>20090607</td>\n",
       "      <td>NaN</td>\n",
       "      <td>NaN</td>\n",
       "      <td>01004</td>\n",
       "    </tr>\n",
       "    <tr>\n",
       "      <th>3</th>\n",
       "      <td>1</td>\n",
       "      <td>725</td>\n",
       "      <td>7.0</td>\n",
       "      <td>366</td>\n",
       "      <td>1098</td>\n",
       "      <td>373</td>\n",
       "      <td>Ambérieux-en-Dombes</td>\n",
       "      <td>AIN</td>\n",
       "      <td>51.0</td>\n",
       "      <td>4.64</td>\n",
       "      <td>13.93</td>\n",
       "      <td>europ</td>\n",
       "      <td>20090607</td>\n",
       "      <td>NaN</td>\n",
       "      <td>NaN</td>\n",
       "      <td>01005</td>\n",
       "    </tr>\n",
       "    <tr>\n",
       "      <th>4</th>\n",
       "      <td>1</td>\n",
       "      <td>60</td>\n",
       "      <td>3.0</td>\n",
       "      <td>48</td>\n",
       "      <td>111</td>\n",
       "      <td>51</td>\n",
       "      <td>Ambléon</td>\n",
       "      <td>AIN</td>\n",
       "      <td>7.0</td>\n",
       "      <td>6.31</td>\n",
       "      <td>14.58</td>\n",
       "      <td>europ</td>\n",
       "      <td>20090607</td>\n",
       "      <td>NaN</td>\n",
       "      <td>NaN</td>\n",
       "      <td>01006</td>\n",
       "    </tr>\n",
       "  </tbody>\n",
       "</table>\n",
       "</div>"
      ],
      "text/plain": [
       "  department_number  Abstentions  Blancs et nuls  Exprimés  Inscrits  Votants  \\\n",
       "0                 1          360            13.0       223       596      236   \n",
       "1                 1          120             4.0       106       230      110   \n",
       "2                 1         4887            85.0      2890      7862     2975   \n",
       "3                 1          725             7.0       366      1098      373   \n",
       "4                 1           60             3.0        48       111       51   \n",
       "\n",
       "                 city_code department_name  voix_eco  % Voix/Ins_eco  \\\n",
       "0  L'Abergement-Clémenciat             AIN      31.0            5.20   \n",
       "1    L'Abergement-de-Varey             AIN      23.0           10.00   \n",
       "2        Ambérieu-en-Bugey             AIN     466.0            5.93   \n",
       "3      Ambérieux-en-Dombes             AIN      51.0            4.64   \n",
       "4                  Ambléon             AIN       7.0            6.31   \n",
       "\n",
       "   % Voix/Exp_eco election_type  election_day  Blancs  Nuls code_insee  \n",
       "0           13.90         europ      20090607     NaN   NaN      01001  \n",
       "1           21.70         europ      20090607     NaN   NaN      01002  \n",
       "2           16.12         europ      20090607     NaN   NaN      01004  \n",
       "3           13.93         europ      20090607     NaN   NaN      01005  \n",
       "4           14.58         europ      20090607     NaN   NaN      01006  "
      ]
     },
     "execution_count": 52,
     "metadata": {},
     "output_type": "execute_result"
    }
   ],
   "source": [
    "merged_elections.head(5)"
   ]
  },
  {
   "cell_type": "code",
   "execution_count": null,
   "id": "092218bb-bfbc-4205-8eb7-875d779c438a",
   "metadata": {},
   "outputs": [],
   "source": [
    "#Save new dataset to csv format. Default separator is \",\", put \";\" instead to avoid French/english number confusion\n",
    "merged_elections.to_csv(r\"C:\\Users\\camil\\OneDrive - GENES\\Documents\\ENSAE\\Projet\\data\\elections\\clean\\merged_elections.csv\", sep=\";\", index=True)"
   ]
  }
 ],
 "metadata": {
  "kernelspec": {
   "display_name": "base",
   "language": "python",
   "name": "python3"
  },
  "language_info": {
   "codemirror_mode": {
    "name": "ipython",
    "version": 3
   },
   "file_extension": ".py",
   "mimetype": "text/x-python",
   "name": "python",
   "nbconvert_exporter": "python",
   "pygments_lexer": "ipython3",
   "version": "3.12.7"
  }
 },
 "nbformat": 4,
 "nbformat_minor": 5
}
